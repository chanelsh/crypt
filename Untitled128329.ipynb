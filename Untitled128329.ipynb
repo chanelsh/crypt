{
 "cells": [
  {
   "cell_type": "code",
   "execution_count": 218,
   "metadata": {
    "collapsed": true
   },
   "outputs": [],
   "source": [
    "from datascience import *\n",
    "import numpy as np\n",
    "\n",
    "%matplotlib inline"
   ]
  },
  {
   "cell_type": "code",
   "execution_count": 271,
   "metadata": {
    "collapsed": true
   },
   "outputs": [],
   "source": [
    "currencies = [\"bitcoin\",\"dogecoin\",\"ethereum\",\"litecoin\"]\n",
    "\n",
    "data = Table().with_columns(\"Currency\",\" \",\"Date\",\" \",\"Open\",0,\"High\",0,\"Low\",0,\"Close\",0,\"Volume\",0,\"MarketCap\",0)\n",
    "for currency in currencies:\n",
    "    ctable = Table.read_table(currency + \".csv\",  sep = \";\")\n",
    "    ctable.append_column(\"Currency\", np.repeat(currency, ctable.num_rows))\n",
    "    for col in make_array(\"Open\",\"High\",\"Low\",\"Close\",\"Volume\",\"MarketCap\"):\n",
    "        ctable = ctable.with_column(col, ctable.column(col).astype(float))\n",
    "    data.append(ctable)\n",
    "    \n",
    "data = data.take(np.arange(1, data.num_rows))\n",
    "data = data.with_column(\"Date\", data.apply(converter, \"Date\"))"
   ]
  },
  {
   "cell_type": "code",
   "execution_count": 272,
   "metadata": {},
   "outputs": [
    {
     "data": {
      "text/html": [
       "<table border=\"1\" class=\"dataframe\">\n",
       "    <thead>\n",
       "        <tr>\n",
       "            <th>Currency</th> <th>Date mean</th> <th>Open mean</th> <th>High mean</th> <th>Low mean</th> <th>Close mean</th> <th>Volume mean</th> <th>MarketCap mean</th>\n",
       "        </tr>\n",
       "    </thead>\n",
       "    <tbody>\n",
       "        <tr>\n",
       "            <td>bitcoin </td> <td>         </td> <td>879.885    </td> <td>906.418   </td> <td>856.323    </td> <td>884.716    </td> <td>2.76377e+08</td> <td>1.36966e+10   </td>\n",
       "        </tr>\n",
       "    </tbody>\n",
       "        <tr>\n",
       "            <td>dogecoin</td> <td>         </td> <td>0.000498567</td> <td>0.00052873</td> <td>0.000470138</td> <td>0.000499364</td> <td>2.06579e+06</td> <td>4.84554e+07   </td>\n",
       "        </tr>\n",
       "    </tbody>\n",
       "        <tr>\n",
       "            <td>ethereum</td> <td>         </td> <td>73.3972    </td> <td>76.5043   </td> <td>70.3745    </td> <td>73.8372    </td> <td>2.19372e+08</td> <td>6.83108e+09   </td>\n",
       "        </tr>\n",
       "    </tbody>\n",
       "        <tr>\n",
       "            <td>litecoin</td> <td>         </td> <td>10.787     </td> <td>11.2701   </td> <td>10.2903    </td> <td>10.8254    </td> <td>4.31879e+07</td> <td>4.71809e+08   </td>\n",
       "        </tr>\n",
       "    </tbody>\n",
       "</table>"
      ],
      "text/plain": [
       "Currency | Date mean | Open mean   | High mean  | Low mean    | Close mean  | Volume mean | MarketCap mean\n",
       "bitcoin  |           | 879.885     | 906.418    | 856.323     | 884.716     | 2.76377e+08 | 1.36966e+10\n",
       "dogecoin |           | 0.000498567 | 0.00052873 | 0.000470138 | 0.000499364 | 2.06579e+06 | 4.84554e+07\n",
       "ethereum |           | 73.3972     | 76.5043    | 70.3745     | 73.8372     | 2.19372e+08 | 6.83108e+09\n",
       "litecoin |           | 10.787      | 11.2701    | 10.2903     | 10.8254     | 4.31879e+07 | 4.71809e+08"
      ]
     },
     "execution_count": 272,
     "metadata": {},
     "output_type": "execute_result"
    }
   ],
   "source": [
    "data.group(\"Currency\", collect = np.mean)"
   ]
  },
  {
   "cell_type": "code",
   "execution_count": 273,
   "metadata": {},
   "outputs": [
    {
     "data": {
      "text/html": [
       "<table border=\"1\" class=\"dataframe\">\n",
       "    <thead>\n",
       "        <tr>\n",
       "            <th>Currency</th> <th>Date min</th> <th>Open min</th> <th>High min</th> <th>Low min</th> <th>Close min</th> <th>Volume min</th> <th>MarketCap min</th>\n",
       "        </tr>\n",
       "    </thead>\n",
       "    <tbody>\n",
       "        <tr>\n",
       "            <td>bitcoin </td> <td>01/01/2014</td> <td>68.5    </td> <td>74.56   </td> <td>65.53   </td> <td>68.43    </td> <td>0         </td> <td>7.79255e+08  </td>\n",
       "        </tr>\n",
       "    </tbody>\n",
       "        <tr>\n",
       "            <td>dogecoin</td> <td>01/01/2014</td> <td>8.7e-05 </td> <td>8.9e-05 </td> <td>8.5e-05 </td> <td>8.7e-05  </td> <td>0         </td> <td>1.52612e+06  </td>\n",
       "        </tr>\n",
       "    </tbody>\n",
       "        <tr>\n",
       "            <td>ethereum</td> <td>01/01/2016</td> <td>0.431589</td> <td>0.482988</td> <td>0.420897</td> <td>0.434829 </td> <td>102128    </td> <td>0            </td>\n",
       "        </tr>\n",
       "    </tbody>\n",
       "        <tr>\n",
       "            <td>litecoin</td> <td>01/01/2014</td> <td>1.15    </td> <td>1.34    </td> <td>1.11    </td> <td>1.16     </td> <td>0         </td> <td>3.79437e+07  </td>\n",
       "        </tr>\n",
       "    </tbody>\n",
       "</table>"
      ],
      "text/plain": [
       "Currency | Date min   | Open min | High min | Low min  | Close min | Volume min | MarketCap min\n",
       "bitcoin  | 01/01/2014 | 68.5     | 74.56    | 65.53    | 68.43     | 0          | 7.79255e+08\n",
       "dogecoin | 01/01/2014 | 8.7e-05  | 8.9e-05  | 8.5e-05  | 8.7e-05   | 0          | 1.52612e+06\n",
       "ethereum | 01/01/2016 | 0.431589 | 0.482988 | 0.420897 | 0.434829  | 102128     | 0\n",
       "litecoin | 01/01/2014 | 1.15     | 1.34     | 1.11     | 1.16      | 0          | 3.79437e+07"
      ]
     },
     "execution_count": 273,
     "metadata": {},
     "output_type": "execute_result"
    }
   ],
   "source": [
    "data.group(\"Currency\", collect = min)"
   ]
  },
  {
   "cell_type": "code",
   "execution_count": 274,
   "metadata": {},
   "outputs": [],
   "source": [
    "holidays = Table.read_table(\"usholidays.txt\", sep = \",\", names = make_array(\"num\",\"Date\", \"Holiday\"))\n",
    "def converter(date):\n",
    "    return datetime.datetime.strptime(date,\"%d/%m/%Y\").strftime('%Y-%m-%d')"
   ]
  },
  {
   "cell_type": "code",
   "execution_count": 283,
   "metadata": {},
   "outputs": [
    {
     "data": {
      "text/html": [
       "<table border=\"1\" class=\"dataframe\">\n",
       "    <thead>\n",
       "        <tr>\n",
       "            <th>Date</th> <th>Currency</th> <th>Open</th> <th>High</th> <th>Low</th> <th>Close</th> <th>Volume</th> <th>MarketCap</th> <th>num</th> <th>Holiday</th>\n",
       "        </tr>\n",
       "    </thead>\n",
       "    <tbody>\n",
       "        <tr>\n",
       "            <td>2013-05-27</td> <td>bitcoin </td> <td>133.5 </td> <td>135.47</td> <td>124.7 </td> <td>129.75</td> <td>0     </td> <td>1.49552e+09</td> <td>14  </td> <td>Memorial Day    </td>\n",
       "        </tr>\n",
       "    </tbody>\n",
       "        <tr>\n",
       "            <td>2013-05-27</td> <td>litecoin</td> <td>3.23  </td> <td>3.26  </td> <td>3.02  </td> <td>3.1   </td> <td>0     </td> <td>5.81308e+07</td> <td>14  </td> <td>Memorial Day    </td>\n",
       "        </tr>\n",
       "    </tbody>\n",
       "        <tr>\n",
       "            <td>2013-07-04</td> <td>bitcoin </td> <td>78.89 </td> <td>83.11 </td> <td>72    </td> <td>80.53 </td> <td>0     </td> <td>8.96693e+08</td> <td>15  </td> <td>Independence Day</td>\n",
       "        </tr>\n",
       "    </tbody>\n",
       "        <tr>\n",
       "            <td>2013-07-04</td> <td>litecoin</td> <td>2.68  </td> <td>2.78  </td> <td>2.49  </td> <td>2.73  </td> <td>0     </td> <td>5.1159e+07 </td> <td>15  </td> <td>Independence Day</td>\n",
       "        </tr>\n",
       "    </tbody>\n",
       "        <tr>\n",
       "            <td>2013-09-02</td> <td>bitcoin </td> <td>138.63</td> <td>146.5 </td> <td>134.89</td> <td>135.85</td> <td>0     </td> <td>1.6136e+09 </td> <td>16  </td> <td>Labor Day       </td>\n",
       "        </tr>\n",
       "    </tbody>\n",
       "        <tr>\n",
       "            <td>2013-09-02</td> <td>litecoin</td> <td>2.57  </td> <td>2.74  </td> <td>2.54  </td> <td>2.56  </td> <td>0     </td> <td>5.36677e+07</td> <td>16  </td> <td>Labor Day       </td>\n",
       "        </tr>\n",
       "    </tbody>\n",
       "        <tr>\n",
       "            <td>2013-10-14</td> <td>bitcoin </td> <td>139.27</td> <td>144.12</td> <td>138.9 </td> <td>140.52</td> <td>0     </td> <td>1.64847e+09</td> <td>17  </td> <td>Columbus Day    </td>\n",
       "        </tr>\n",
       "    </tbody>\n",
       "        <tr>\n",
       "            <td>2013-10-14</td> <td>litecoin</td> <td>2.15  </td> <td>2.17  </td> <td>2.03  </td> <td>2.05  </td> <td>0     </td> <td>4.74116e+07</td> <td>17  </td> <td>Columbus Day    </td>\n",
       "        </tr>\n",
       "    </tbody>\n",
       "        <tr>\n",
       "            <td>2013-11-11</td> <td>bitcoin </td> <td>325.41</td> <td>351.27</td> <td>311.78</td> <td>342.44</td> <td>0     </td> <td>3.89613e+09</td> <td>18  </td> <td>Veterans Day    </td>\n",
       "        </tr>\n",
       "    </tbody>\n",
       "        <tr>\n",
       "            <td>2013-11-11</td> <td>litecoin</td> <td>3.91  </td> <td>4.1   </td> <td>3.7   </td> <td>4     </td> <td>0     </td> <td>8.95348e+07</td> <td>18  </td> <td>Veterans Day    </td>\n",
       "        </tr>\n",
       "    </tbody>\n",
       "</table>\n",
       "<p>... (142 rows omitted)</p"
      ],
      "text/plain": [
       "Date       | Currency | Open   | High   | Low    | Close  | Volume | MarketCap   | num  | Holiday\n",
       "2013-05-27 | bitcoin  | 133.5  | 135.47 | 124.7  | 129.75 | 0      | 1.49552e+09 | 14   | Memorial Day\n",
       "2013-05-27 | litecoin | 3.23   | 3.26   | 3.02   | 3.1    | 0      | 5.81308e+07 | 14   | Memorial Day\n",
       "2013-07-04 | bitcoin  | 78.89  | 83.11  | 72     | 80.53  | 0      | 8.96693e+08 | 15   | Independence Day\n",
       "2013-07-04 | litecoin | 2.68   | 2.78   | 2.49   | 2.73   | 0      | 5.1159e+07  | 15   | Independence Day\n",
       "2013-09-02 | bitcoin  | 138.63 | 146.5  | 134.89 | 135.85 | 0      | 1.6136e+09  | 16   | Labor Day\n",
       "2013-09-02 | litecoin | 2.57   | 2.74   | 2.54   | 2.56   | 0      | 5.36677e+07 | 16   | Labor Day\n",
       "2013-10-14 | bitcoin  | 139.27 | 144.12 | 138.9  | 140.52 | 0      | 1.64847e+09 | 17   | Columbus Day\n",
       "2013-10-14 | litecoin | 2.15   | 2.17   | 2.03   | 2.05   | 0      | 4.74116e+07 | 17   | Columbus Day\n",
       "2013-11-11 | bitcoin  | 325.41 | 351.27 | 311.78 | 342.44 | 0      | 3.89613e+09 | 18   | Veterans Day\n",
       "2013-11-11 | litecoin | 3.91   | 4.1    | 3.7    | 4      | 0      | 8.95348e+07 | 18   | Veterans Day\n",
       "... (142 rows omitted)"
      ]
     },
     "execution_count": 283,
     "metadata": {},
     "output_type": "execute_result"
    }
   ],
   "source": [
    "joined = data.join(\"Date\", holidays)\n",
    "joined"
   ]
  },
  {
   "cell_type": "markdown",
   "metadata": {},
   "source": [
    "While the overall trend for all the cryptocurrencies is positive in terms of their values, Dogecoin and Litecoin are still relatively low in value compared to Bitcoin and Ethereum. We decided to group the data based on holiday, because we wanted to test the affects of the holiday season on the highs and lows of the cyrptocurrency values."
   ]
  },
  {
   "cell_type": "code",
   "execution_count": 2,
   "metadata": {},
   "outputs": [
    {
     "ename": "NameError",
     "evalue": "name 'joined' is not defined",
     "output_type": "error",
     "traceback": [
      "\u001b[0;31m---------------------------------------------------------------------------\u001b[0m",
      "\u001b[0;31mNameError\u001b[0m                                 Traceback (most recent call last)",
      "\u001b[0;32m<ipython-input-2-cd85a0e8371c>\u001b[0m in \u001b[0;36m<module>\u001b[0;34m()\u001b[0m\n\u001b[0;32m----> 1\u001b[0;31m \u001b[0mgraph\u001b[0m \u001b[0;34m=\u001b[0m \u001b[0mjoined\u001b[0m\u001b[0;34m.\u001b[0m\u001b[0mplot\u001b[0m\u001b[0;34m(\u001b[0m\u001b[0;34m\"Holiday\"\u001b[0m\u001b[0;34m,\u001b[0m \u001b[0;34m\"High\"\u001b[0m\u001b[0;34m)\u001b[0m\u001b[0;34m\u001b[0m\u001b[0m\n\u001b[0m\u001b[1;32m      2\u001b[0m \u001b[0mgraph\u001b[0m\u001b[0;34m\u001b[0m\u001b[0m\n",
      "\u001b[0;31mNameError\u001b[0m: name 'joined' is not defined"
     ]
    }
   ],
   "source": [
    "graph1 = joined.plot(\"Holiday\", \"High\")\n",
    "graph1"
   ]
  },
  {
   "cell_type": "markdown",
   "metadata": {},
   "source": [
    "Our hypothesis is that the holidays positively affect and increase the highs because the value of the cryptocurrencies go up because people are in a more positve mood and it changes the market. "
   ]
  },
  {
   "cell_type": "markdown",
   "metadata": {},
   "source": [
    "Our null hypothesis is that the cryptocurrency markets are not affected by the holidays and the highs do not change. There is no causation."
   ]
  },
  {
   "cell_type": "code",
   "execution_count": null,
   "metadata": {
    "collapsed": true
   },
   "outputs": [],
   "source": [
    "graph2 = joined.plot(\"Holiday\", \"Low\")\n",
    "graph2"
   ]
  },
  {
   "cell_type": "markdown",
   "metadata": {},
   "source": [
    "In terms of our predicting problem, we only tested the highs and this can be seen as overally optimistic. We can't generalize the overall cryptocurrency value changes if we don't look at the value as a whole and its fluctuations, rather than the highs alone."
   ]
  },
  {
   "cell_type": "markdown",
   "metadata": {},
   "source": [
    "In order to change the statistical problem, we can add another column to the table, to see how the lows are affected along with the holiday dataset. This would give us a better picture of the overall value for cryptocurrency"
   ]
  },
  {
   "cell_type": "code",
   "execution_count": null,
   "metadata": {
    "collapsed": true
   },
   "outputs": [],
   "source": [
    "graph3 = "
   ]
  }
 ],
 "metadata": {
  "anaconda-cloud": {},
  "kernelspec": {
   "display_name": "Python [conda env:ds100]",
   "language": "python",
   "name": "conda-env-ds100-py"
  }
 },
 "nbformat": 4,
 "nbformat_minor": 1
}
